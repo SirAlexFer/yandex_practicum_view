{
 "cells": [
  {
   "cell_type": "markdown",
   "metadata": {},
   "source": [
    "# Отток клиентов"
   ]
  },
  {
   "cell_type": "markdown",
   "metadata": {},
   "source": [
    "Из «Бета-Банка» стали уходить клиенты. Каждый месяц. Немного, но заметно. Банковские маркетологи посчитали: ***сохранять текущих клиентов дешевле, чем привлекать новых.*** \\\n",
    "На основе текущих данных было спрогнозировано - уйдёт клиент или нет\\\n",
    "\n",
    "Источник данных: [https://www.kaggle.com/barelydedicated/bank-customer-churn-modeling](https://www.kaggle.com/barelydedicated/bank-customer-churn-modeling)"
   ]
  },
  {
   "cell_type": "markdown",
   "metadata": {},
   "source": [
    "## Импорт"
   ]
  },
  {
   "cell_type": "markdown",
   "metadata": {},
   "source": [
    "### Импорт библиотек"
   ]
  },
  {
   "cell_type": "code",
   "execution_count": 1,
   "metadata": {},
   "outputs": [
    {
     "name": "stdout",
     "output_type": "stream",
     "text": [
      "Requirement already satisfied: imblearn in c:\\anaconda3\\envs\\practicum_1\\lib\\site-packages (0.0)\n",
      "Requirement already satisfied: imbalanced-learn in c:\\anaconda3\\envs\\practicum_1\\lib\\site-packages (from imblearn) (0.10.1)\n",
      "Requirement already satisfied: numpy>=1.17.3 in c:\\anaconda3\\envs\\practicum_1\\lib\\site-packages (from imbalanced-learn->imblearn) (1.20.1)\n",
      "Requirement already satisfied: scikit-learn>=1.0.2 in c:\\anaconda3\\envs\\practicum_1\\lib\\site-packages (from imbalanced-learn->imblearn) (1.2.0)\n",
      "Requirement already satisfied: scipy>=1.3.2 in c:\\anaconda3\\envs\\practicum_1\\lib\\site-packages (from imbalanced-learn->imblearn) (1.8.0)\n",
      "Requirement already satisfied: joblib>=1.1.1 in c:\\anaconda3\\envs\\practicum_1\\lib\\site-packages (from imbalanced-learn->imblearn) (1.2.0)\n",
      "Requirement already satisfied: threadpoolctl>=2.0.0 in c:\\anaconda3\\envs\\practicum_1\\lib\\site-packages (from imbalanced-learn->imblearn) (3.1.0)\n",
      "Requirement already satisfied: sklearn in c:\\anaconda3\\envs\\practicum_1\\lib\\site-packages (0.0.post1)\n"
     ]
    }
   ],
   "source": [
    "!pip install imblearn\n",
    "!pip install sklearn"
   ]
  },
  {
   "cell_type": "code",
   "execution_count": 2,
   "metadata": {},
   "outputs": [],
   "source": [
    "from io import BytesIO\n",
    "from IPython.display import clear_output\n",
    "\n",
    "import re\n",
    "\n",
    "import requests\n",
    "import pandas as pd\n",
    "import numpy as np\n",
    "import seaborn as sns\n",
    "import matplotlib.pyplot as plt\n",
    "\n",
    "from sklearn.experimental import enable_iterative_imputer\n",
    "from sklearn.impute import IterativeImputer\n",
    "from sklearn.compose import ColumnTransformer\n",
    "from sklearn.pipeline import Pipeline\n",
    "from sklearn.preprocessing import OneHotEncoder, StandardScaler\n",
    "from sklearn.model_selection import train_test_split, StratifiedKFold\n",
    "from sklearn.model_selection import GridSearchCV\n",
    "from sklearn.utils import shuffle\n",
    "\n",
    "from sklearn.linear_model import LogisticRegression\n",
    "from sklearn.tree import DecisionTreeClassifier\n",
    "from sklearn.ensemble import RandomForestClassifier\n",
    "\n",
    "from sklearn.metrics import accuracy_score, roc_auc_score\n",
    "from sklearn.metrics import precision_score, recall_score, f1_score\n",
    "\n",
    "from imblearn.pipeline import make_pipeline\n",
    "from imblearn.over_sampling import SMOTE"
   ]
  },
  {
   "cell_type": "markdown",
   "metadata": {},
   "source": [
    "### Импорт данных"
   ]
  },
  {
   "cell_type": "code",
   "execution_count": 3,
   "metadata": {},
   "outputs": [],
   "source": [
    "try:\n",
    "    data_rate = pd.read_csv('../datasets/Churn.csv')\n",
    "except:\n",
    "    pass"
   ]
  },
  {
   "cell_type": "code",
   "execution_count": 4,
   "metadata": {},
   "outputs": [],
   "source": [
    "RANDOM_STATE = 12345\n",
    "\n",
    "SCORING = ['f1', 'roc_auc','accuracy', 'recall','precision']\n",
    "MAIN_SCORING = 'f1'"
   ]
  },
  {
   "cell_type": "markdown",
   "metadata": {},
   "source": [
    "## Анализ данных"
   ]
  },
  {
   "cell_type": "code",
   "execution_count": 5,
   "metadata": {},
   "outputs": [
    {
     "data": {
      "text/html": [
       "<div>\n",
       "<style scoped>\n",
       "    .dataframe tbody tr th:only-of-type {\n",
       "        vertical-align: middle;\n",
       "    }\n",
       "\n",
       "    .dataframe tbody tr th {\n",
       "        vertical-align: top;\n",
       "    }\n",
       "\n",
       "    .dataframe thead th {\n",
       "        text-align: right;\n",
       "    }\n",
       "</style>\n",
       "<table border=\"1\" class=\"dataframe\">\n",
       "  <thead>\n",
       "    <tr style=\"text-align: right;\">\n",
       "      <th></th>\n",
       "      <th>RowNumber</th>\n",
       "      <th>CustomerId</th>\n",
       "      <th>Surname</th>\n",
       "      <th>CreditScore</th>\n",
       "      <th>Geography</th>\n",
       "      <th>Gender</th>\n",
       "      <th>Age</th>\n",
       "      <th>Tenure</th>\n",
       "      <th>Balance</th>\n",
       "      <th>NumOfProducts</th>\n",
       "      <th>HasCrCard</th>\n",
       "      <th>IsActiveMember</th>\n",
       "      <th>EstimatedSalary</th>\n",
       "      <th>Exited</th>\n",
       "    </tr>\n",
       "  </thead>\n",
       "  <tbody>\n",
       "    <tr>\n",
       "      <th>0</th>\n",
       "      <td>1</td>\n",
       "      <td>15634602</td>\n",
       "      <td>Hargrave</td>\n",
       "      <td>619</td>\n",
       "      <td>France</td>\n",
       "      <td>Female</td>\n",
       "      <td>42</td>\n",
       "      <td>2.0</td>\n",
       "      <td>0.00</td>\n",
       "      <td>1</td>\n",
       "      <td>1</td>\n",
       "      <td>1</td>\n",
       "      <td>101348.88</td>\n",
       "      <td>1</td>\n",
       "    </tr>\n",
       "    <tr>\n",
       "      <th>1</th>\n",
       "      <td>2</td>\n",
       "      <td>15647311</td>\n",
       "      <td>Hill</td>\n",
       "      <td>608</td>\n",
       "      <td>Spain</td>\n",
       "      <td>Female</td>\n",
       "      <td>41</td>\n",
       "      <td>1.0</td>\n",
       "      <td>83807.86</td>\n",
       "      <td>1</td>\n",
       "      <td>0</td>\n",
       "      <td>1</td>\n",
       "      <td>112542.58</td>\n",
       "      <td>0</td>\n",
       "    </tr>\n",
       "    <tr>\n",
       "      <th>2</th>\n",
       "      <td>3</td>\n",
       "      <td>15619304</td>\n",
       "      <td>Onio</td>\n",
       "      <td>502</td>\n",
       "      <td>France</td>\n",
       "      <td>Female</td>\n",
       "      <td>42</td>\n",
       "      <td>8.0</td>\n",
       "      <td>159660.80</td>\n",
       "      <td>3</td>\n",
       "      <td>1</td>\n",
       "      <td>0</td>\n",
       "      <td>113931.57</td>\n",
       "      <td>1</td>\n",
       "    </tr>\n",
       "    <tr>\n",
       "      <th>3</th>\n",
       "      <td>4</td>\n",
       "      <td>15701354</td>\n",
       "      <td>Boni</td>\n",
       "      <td>699</td>\n",
       "      <td>France</td>\n",
       "      <td>Female</td>\n",
       "      <td>39</td>\n",
       "      <td>1.0</td>\n",
       "      <td>0.00</td>\n",
       "      <td>2</td>\n",
       "      <td>0</td>\n",
       "      <td>0</td>\n",
       "      <td>93826.63</td>\n",
       "      <td>0</td>\n",
       "    </tr>\n",
       "    <tr>\n",
       "      <th>4</th>\n",
       "      <td>5</td>\n",
       "      <td>15737888</td>\n",
       "      <td>Mitchell</td>\n",
       "      <td>850</td>\n",
       "      <td>Spain</td>\n",
       "      <td>Female</td>\n",
       "      <td>43</td>\n",
       "      <td>2.0</td>\n",
       "      <td>125510.82</td>\n",
       "      <td>1</td>\n",
       "      <td>1</td>\n",
       "      <td>1</td>\n",
       "      <td>79084.10</td>\n",
       "      <td>0</td>\n",
       "    </tr>\n",
       "  </tbody>\n",
       "</table>\n",
       "</div>"
      ],
      "text/plain": [
       "   RowNumber  CustomerId   Surname  CreditScore Geography  Gender  Age  \\\n",
       "0          1    15634602  Hargrave          619    France  Female   42   \n",
       "1          2    15647311      Hill          608     Spain  Female   41   \n",
       "2          3    15619304      Onio          502    France  Female   42   \n",
       "3          4    15701354      Boni          699    France  Female   39   \n",
       "4          5    15737888  Mitchell          850     Spain  Female   43   \n",
       "\n",
       "   Tenure    Balance  NumOfProducts  HasCrCard  IsActiveMember  \\\n",
       "0     2.0       0.00              1          1               1   \n",
       "1     1.0   83807.86              1          0               1   \n",
       "2     8.0  159660.80              3          1               0   \n",
       "3     1.0       0.00              2          0               0   \n",
       "4     2.0  125510.82              1          1               1   \n",
       "\n",
       "   EstimatedSalary  Exited  \n",
       "0        101348.88       1  \n",
       "1        112542.58       0  \n",
       "2        113931.57       1  \n",
       "3         93826.63       0  \n",
       "4         79084.10       0  "
      ]
     },
     "execution_count": 5,
     "metadata": {},
     "output_type": "execute_result"
    }
   ],
   "source": [
    "data_rate.head()"
   ]
  },
  {
   "cell_type": "code",
   "execution_count": 6,
   "metadata": {},
   "outputs": [
    {
     "name": "stdout",
     "output_type": "stream",
     "text": [
      "<class 'pandas.core.frame.DataFrame'>\n",
      "RangeIndex: 10000 entries, 0 to 9999\n",
      "Data columns (total 14 columns):\n",
      " #   Column           Non-Null Count  Dtype  \n",
      "---  ------           --------------  -----  \n",
      " 0   RowNumber        10000 non-null  int64  \n",
      " 1   CustomerId       10000 non-null  int64  \n",
      " 2   Surname          10000 non-null  object \n",
      " 3   CreditScore      10000 non-null  int64  \n",
      " 4   Geography        10000 non-null  object \n",
      " 5   Gender           10000 non-null  object \n",
      " 6   Age              10000 non-null  int64  \n",
      " 7   Tenure           9091 non-null   float64\n",
      " 8   Balance          10000 non-null  float64\n",
      " 9   NumOfProducts    10000 non-null  int64  \n",
      " 10  HasCrCard        10000 non-null  int64  \n",
      " 11  IsActiveMember   10000 non-null  int64  \n",
      " 12  EstimatedSalary  10000 non-null  float64\n",
      " 13  Exited           10000 non-null  int64  \n",
      "dtypes: float64(3), int64(8), object(3)\n",
      "memory usage: 1.1+ MB\n"
     ]
    }
   ],
   "source": [
    "data_rate.info()"
   ]
  },
  {
   "cell_type": "markdown",
   "metadata": {},
   "source": [
    "Преобразуем названия столбцов в shake_case"
   ]
  },
  {
   "cell_type": "code",
   "execution_count": 7,
   "metadata": {},
   "outputs": [],
   "source": [
    "def camel_to_snake(name):\n",
    "    name = re.sub('(.)([A-Z][a-z]+)', r'\\1_\\2', name)\n",
    "    return re.sub('([a-z0-9])([A-Z])', r'\\1_\\2', name).lower()"
   ]
  },
  {
   "cell_type": "code",
   "execution_count": 8,
   "metadata": {},
   "outputs": [],
   "source": [
    "data_rate.columns = [camel_to_snake(col) for col in data_rate.columns]"
   ]
  },
  {
   "cell_type": "markdown",
   "metadata": {},
   "source": [
    "Мы видим, что в данных присутствуют пропуски. Таким образом данным нужна будет предобработка"
   ]
  },
  {
   "cell_type": "code",
   "execution_count": null,
   "metadata": {},
   "outputs": [
    {
     "data": {
      "text/html": [
       "<style  type=\"text/css\" >\n",
       "</style><table id=\"T_6ec3a_\" ><thead>    <tr>        <th class=\"blank level0\" ></th>        <th class=\"col_heading level0 col0\" >count</th>        <th class=\"col_heading level0 col1\" >percent</th>    </tr></thead><tbody>\n",
       "                <tr>\n",
       "                        <th id=\"T_6ec3a_level0_row0\" class=\"row_heading level0 row0\" >row_number</th>\n",
       "                        <td id=\"T_6ec3a_row0_col0\" class=\"data row0 col0\" >0</td>\n",
       "                        <td id=\"T_6ec3a_row0_col1\" class=\"data row0 col1\" >0.00%</td>\n",
       "            </tr>\n",
       "            <tr>\n",
       "                        <th id=\"T_6ec3a_level0_row1\" class=\"row_heading level0 row1\" >customer_id</th>\n",
       "                        <td id=\"T_6ec3a_row1_col0\" class=\"data row1 col0\" >0</td>\n",
       "                        <td id=\"T_6ec3a_row1_col1\" class=\"data row1 col1\" >0.00%</td>\n",
       "            </tr>\n",
       "            <tr>\n",
       "                        <th id=\"T_6ec3a_level0_row2\" class=\"row_heading level0 row2\" >surname</th>\n",
       "                        <td id=\"T_6ec3a_row2_col0\" class=\"data row2 col0\" >0</td>\n",
       "                        <td id=\"T_6ec3a_row2_col1\" class=\"data row2 col1\" >0.00%</td>\n",
       "            </tr>\n",
       "            <tr>\n",
       "                        <th id=\"T_6ec3a_level0_row3\" class=\"row_heading level0 row3\" >credit_score</th>\n",
       "                        <td id=\"T_6ec3a_row3_col0\" class=\"data row3 col0\" >0</td>\n",
       "                        <td id=\"T_6ec3a_row3_col1\" class=\"data row3 col1\" >0.00%</td>\n",
       "            </tr>\n",
       "            <tr>\n",
       "                        <th id=\"T_6ec3a_level0_row4\" class=\"row_heading level0 row4\" >geography</th>\n",
       "                        <td id=\"T_6ec3a_row4_col0\" class=\"data row4 col0\" >0</td>\n",
       "                        <td id=\"T_6ec3a_row4_col1\" class=\"data row4 col1\" >0.00%</td>\n",
       "            </tr>\n",
       "            <tr>\n",
       "                        <th id=\"T_6ec3a_level0_row5\" class=\"row_heading level0 row5\" >gender</th>\n",
       "                        <td id=\"T_6ec3a_row5_col0\" class=\"data row5 col0\" >0</td>\n",
       "                        <td id=\"T_6ec3a_row5_col1\" class=\"data row5 col1\" >0.00%</td>\n",
       "            </tr>\n",
       "            <tr>\n",
       "                        <th id=\"T_6ec3a_level0_row6\" class=\"row_heading level0 row6\" >age</th>\n",
       "                        <td id=\"T_6ec3a_row6_col0\" class=\"data row6 col0\" >0</td>\n",
       "                        <td id=\"T_6ec3a_row6_col1\" class=\"data row6 col1\" >0.00%</td>\n",
       "            </tr>\n",
       "            <tr>\n",
       "                        <th id=\"T_6ec3a_level0_row7\" class=\"row_heading level0 row7\" >tenure</th>\n",
       "                        <td id=\"T_6ec3a_row7_col0\" class=\"data row7 col0\" >909</td>\n",
       "                        <td id=\"T_6ec3a_row7_col1\" class=\"data row7 col1\" >9.09%</td>\n",
       "            </tr>\n",
       "            <tr>\n",
       "                        <th id=\"T_6ec3a_level0_row8\" class=\"row_heading level0 row8\" >balance</th>\n",
       "                        <td id=\"T_6ec3a_row8_col0\" class=\"data row8 col0\" >0</td>\n",
       "                        <td id=\"T_6ec3a_row8_col1\" class=\"data row8 col1\" >0.00%</td>\n",
       "            </tr>\n",
       "            <tr>\n",
       "                        <th id=\"T_6ec3a_level0_row9\" class=\"row_heading level0 row9\" >num_of_products</th>\n",
       "                        <td id=\"T_6ec3a_row9_col0\" class=\"data row9 col0\" >0</td>\n",
       "                        <td id=\"T_6ec3a_row9_col1\" class=\"data row9 col1\" >0.00%</td>\n",
       "            </tr>\n",
       "            <tr>\n",
       "                        <th id=\"T_6ec3a_level0_row10\" class=\"row_heading level0 row10\" >has_cr_card</th>\n",
       "                        <td id=\"T_6ec3a_row10_col0\" class=\"data row10 col0\" >0</td>\n",
       "                        <td id=\"T_6ec3a_row10_col1\" class=\"data row10 col1\" >0.00%</td>\n",
       "            </tr>\n",
       "            <tr>\n",
       "                        <th id=\"T_6ec3a_level0_row11\" class=\"row_heading level0 row11\" >is_active_member</th>\n",
       "                        <td id=\"T_6ec3a_row11_col0\" class=\"data row11 col0\" >0</td>\n",
       "                        <td id=\"T_6ec3a_row11_col1\" class=\"data row11 col1\" >0.00%</td>\n",
       "            </tr>\n",
       "            <tr>\n",
       "                        <th id=\"T_6ec3a_level0_row12\" class=\"row_heading level0 row12\" >estimated_salary</th>\n",
       "                        <td id=\"T_6ec3a_row12_col0\" class=\"data row12 col0\" >0</td>\n",
       "                        <td id=\"T_6ec3a_row12_col1\" class=\"data row12 col1\" >0.00%</td>\n",
       "            </tr>\n",
       "            <tr>\n",
       "                        <th id=\"T_6ec3a_level0_row13\" class=\"row_heading level0 row13\" >exited</th>\n",
       "                        <td id=\"T_6ec3a_row13_col0\" class=\"data row13 col0\" >0</td>\n",
       "                        <td id=\"T_6ec3a_row13_col1\" class=\"data row13 col1\" >0.00%</td>\n",
       "            </tr>\n",
       "    </tbody></table>"
      ],
      "text/plain": [
       "<pandas.io.formats.style.Styler at 0x1c52df01250>"
      ]
     },
     "execution_count": 9,
     "metadata": {},
     "output_type": "execute_result"
    }
   ],
   "source": [
    "(pd.concat(\n",
    "    [data_rate.isna().sum(), data_rate.isna().sum() / data_rate.shape[0]],axis = 1)\n",
    "    .rename(columns = {0:\"count\",1:'percent'})\n",
    "    .style.format({'percent': '{:,.2%}'.format})\n",
    "    )"
   ]
  },
  {
   "cell_type": "markdown",
   "metadata": {},
   "source": [
    "Доля пропусков составляет приблизительно 9 процентов, так просто удалить их не получится \\\n",
    "Предположим, что эти пропуски связаны с тем, что пропуски проставляются, когда человек не является клиентом банка"
   ]
  },
  {
   "cell_type": "markdown",
   "metadata": {},
   "source": [
    "Посмотрим распределение данных"
   ]
  },
  {
   "cell_type": "code",
   "execution_count": null,
   "metadata": {},
   "outputs": [
    {
     "data": {
      "text/plain": [
       "<AxesSubplot:>"
      ]
     },
     "execution_count": 10,
     "metadata": {},
     "output_type": "execute_result"
    },
    {
     "data": {
      "image/png": "[encoded data removed]",
      "text/plain": [
       "<Figure size 640x480 with 1 Axes>"
      ]
     },
     "metadata": {},
     "output_type": "display_data"
    }
   ],
   "source": [
    "(data_rate.tenure\n",
    "    .value_counts(dropna = False)\n",
    "    .sort_index()\n",
    "    .plot(kind = 'bar'))"
   ]
  },
  {
   "cell_type": "markdown",
   "metadata": {},
   "source": [
    "Мы видим, что в целом данные распределены равномерно и отклонений нет"
   ]
  },
  {
   "cell_type": "code",
   "execution_count": null,
   "metadata": {},
   "outputs": [
    {
     "data": {
      "text/html": [
       "<div>\n",
       "<style scoped>\n",
       "    .dataframe tbody tr th:only-of-type {\n",
       "        vertical-align: middle;\n",
       "    }\n",
       "\n",
       "    .dataframe tbody tr th {\n",
       "        vertical-align: top;\n",
       "    }\n",
       "\n",
       "    .dataframe thead th {\n",
       "        text-align: right;\n",
       "    }\n",
       "</style>\n",
       "<table border=\"1\" class=\"dataframe\">\n",
       "  <thead>\n",
       "    <tr style=\"text-align: right;\">\n",
       "      <th></th>\n",
       "      <th>row_number</th>\n",
       "      <th>customer_id</th>\n",
       "      <th>surname</th>\n",
       "      <th>credit_score</th>\n",
       "      <th>geography</th>\n",
       "      <th>gender</th>\n",
       "      <th>age</th>\n",
       "      <th>tenure</th>\n",
       "      <th>balance</th>\n",
       "      <th>num_of_products</th>\n",
       "      <th>has_cr_card</th>\n",
       "      <th>is_active_member</th>\n",
       "      <th>estimated_salary</th>\n",
       "      <th>exited</th>\n",
       "    </tr>\n",
       "  </thead>\n",
       "  <tbody>\n",
       "    <tr>\n",
       "      <th>30</th>\n",
       "      <td>31</td>\n",
       "      <td>15589475</td>\n",
       "      <td>Azikiwe</td>\n",
       "      <td>591</td>\n",
       "      <td>Spain</td>\n",
       "      <td>Female</td>\n",
       "      <td>39</td>\n",
       "      <td>NaN</td>\n",
       "      <td>0.00</td>\n",
       "      <td>3</td>\n",
       "      <td>1</td>\n",
       "      <td>0</td>\n",
       "      <td>140469.38</td>\n",
       "      <td>1</td>\n",
       "    </tr>\n",
       "    <tr>\n",
       "      <th>48</th>\n",
       "      <td>49</td>\n",
       "      <td>15766205</td>\n",
       "      <td>Yin</td>\n",
       "      <td>550</td>\n",
       "      <td>Germany</td>\n",
       "      <td>Male</td>\n",
       "      <td>38</td>\n",
       "      <td>NaN</td>\n",
       "      <td>103391.38</td>\n",
       "      <td>1</td>\n",
       "      <td>0</td>\n",
       "      <td>1</td>\n",
       "      <td>90878.13</td>\n",
       "      <td>0</td>\n",
       "    </tr>\n",
       "    <tr>\n",
       "      <th>51</th>\n",
       "      <td>52</td>\n",
       "      <td>15768193</td>\n",
       "      <td>Trevisani</td>\n",
       "      <td>585</td>\n",
       "      <td>Germany</td>\n",
       "      <td>Male</td>\n",
       "      <td>36</td>\n",
       "      <td>NaN</td>\n",
       "      <td>146050.97</td>\n",
       "      <td>2</td>\n",
       "      <td>0</td>\n",
       "      <td>0</td>\n",
       "      <td>86424.57</td>\n",
       "      <td>0</td>\n",
       "    </tr>\n",
       "    <tr>\n",
       "      <th>53</th>\n",
       "      <td>54</td>\n",
       "      <td>15702298</td>\n",
       "      <td>Parkhill</td>\n",
       "      <td>655</td>\n",
       "      <td>Germany</td>\n",
       "      <td>Male</td>\n",
       "      <td>41</td>\n",
       "      <td>NaN</td>\n",
       "      <td>125561.97</td>\n",
       "      <td>1</td>\n",
       "      <td>0</td>\n",
       "      <td>0</td>\n",
       "      <td>164040.94</td>\n",
       "      <td>1</td>\n",
       "    </tr>\n",
       "    <tr>\n",
       "      <th>60</th>\n",
       "      <td>61</td>\n",
       "      <td>15651280</td>\n",
       "      <td>Hunter</td>\n",
       "      <td>742</td>\n",
       "      <td>Germany</td>\n",
       "      <td>Male</td>\n",
       "      <td>35</td>\n",
       "      <td>NaN</td>\n",
       "      <td>136857.00</td>\n",
       "      <td>1</td>\n",
       "      <td>0</td>\n",
       "      <td>0</td>\n",
       "      <td>84509.57</td>\n",
       "      <td>0</td>\n",
       "    </tr>\n",
       "    <tr>\n",
       "      <th>...</th>\n",
       "      <td>...</td>\n",
       "      <td>...</td>\n",
       "      <td>...</td>\n",
       "      <td>...</td>\n",
       "      <td>...</td>\n",
       "      <td>...</td>\n",
       "      <td>...</td>\n",
       "      <td>...</td>\n",
       "      <td>...</td>\n",
       "      <td>...</td>\n",
       "      <td>...</td>\n",
       "      <td>...</td>\n",
       "      <td>...</td>\n",
       "      <td>...</td>\n",
       "    </tr>\n",
       "    <tr>\n",
       "      <th>9944</th>\n",
       "      <td>9945</td>\n",
       "      <td>15703923</td>\n",
       "      <td>Cameron</td>\n",
       "      <td>744</td>\n",
       "      <td>Germany</td>\n",
       "      <td>Male</td>\n",
       "      <td>41</td>\n",
       "      <td>NaN</td>\n",
       "      <td>190409.34</td>\n",
       "      <td>2</td>\n",
       "      <td>1</td>\n",
       "      <td>1</td>\n",
       "      <td>138361.48</td>\n",
       "      <td>0</td>\n",
       "    </tr>\n",
       "    <tr>\n",
       "      <th>9956</th>\n",
       "      <td>9957</td>\n",
       "      <td>15707861</td>\n",
       "      <td>Nucci</td>\n",
       "      <td>520</td>\n",
       "      <td>France</td>\n",
       "      <td>Female</td>\n",
       "      <td>46</td>\n",
       "      <td>NaN</td>\n",
       "      <td>85216.61</td>\n",
       "      <td>1</td>\n",
       "      <td>1</td>\n",
       "      <td>0</td>\n",
       "      <td>117369.52</td>\n",
       "      <td>1</td>\n",
       "    </tr>\n",
       "    <tr>\n",
       "      <th>9964</th>\n",
       "      <td>9965</td>\n",
       "      <td>15642785</td>\n",
       "      <td>Douglas</td>\n",
       "      <td>479</td>\n",
       "      <td>France</td>\n",
       "      <td>Male</td>\n",
       "      <td>34</td>\n",
       "      <td>NaN</td>\n",
       "      <td>117593.48</td>\n",
       "      <td>2</td>\n",
       "      <td>0</td>\n",
       "      <td>0</td>\n",
       "      <td>113308.29</td>\n",
       "      <td>0</td>\n",
       "    </tr>\n",
       "    <tr>\n",
       "      <th>9985</th>\n",
       "      <td>9986</td>\n",
       "      <td>15586914</td>\n",
       "      <td>Nepean</td>\n",
       "      <td>659</td>\n",
       "      <td>France</td>\n",
       "      <td>Male</td>\n",
       "      <td>36</td>\n",
       "      <td>NaN</td>\n",
       "      <td>123841.49</td>\n",
       "      <td>2</td>\n",
       "      <td>1</td>\n",
       "      <td>0</td>\n",
       "      <td>96833.00</td>\n",
       "      <td>0</td>\n",
       "    </tr>\n",
       "    <tr>\n",
       "      <th>9999</th>\n",
       "      <td>10000</td>\n",
       "      <td>15628319</td>\n",
       "      <td>Walker</td>\n",
       "      <td>792</td>\n",
       "      <td>France</td>\n",
       "      <td>Female</td>\n",
       "      <td>28</td>\n",
       "      <td>NaN</td>\n",
       "      <td>130142.79</td>\n",
       "      <td>1</td>\n",
       "      <td>1</td>\n",
       "      <td>0</td>\n",
       "      <td>38190.78</td>\n",
       "      <td>0</td>\n",
       "    </tr>\n",
       "  </tbody>\n",
       "</table>\n",
       "<p>909 rows × 14 columns</p>\n",
       "</div>"
      ],
      "text/plain": [
       "      row_number  customer_id    surname  credit_score geography  gender  age  \\\n",
       "30            31     15589475    Azikiwe           591     Spain  Female   39   \n",
       "48            49     15766205        Yin           550   Germany    Male   38   \n",
       "51            52     15768193  Trevisani           585   Germany    Male   36   \n",
       "53            54     15702298   Parkhill           655   Germany    Male   41   \n",
       "60            61     15651280     Hunter           742   Germany    Male   35   \n",
       "...          ...          ...        ...           ...       ...     ...  ...   \n",
       "9944        9945     15703923    Cameron           744   Germany    Male   41   \n",
       "9956        9957     15707861      Nucci           520    France  Female   46   \n",
       "9964        9965     15642785    Douglas           479    France    Male   34   \n",
       "9985        9986     15586914     Nepean           659    France    Male   36   \n",
       "9999       10000     15628319     Walker           792    France  Female   28   \n",
       "\n",
       "      tenure    balance  num_of_products  has_cr_card  is_active_member  \\\n",
       "30       NaN       0.00                3            1                 0   \n",
       "48       NaN  103391.38                1            0                 1   \n",
       "51       NaN  146050.97                2            0                 0   \n",
       "53       NaN  125561.97                1            0                 0   \n",
       "60       NaN  136857.00                1            0                 0   \n",
       "...      ...        ...              ...          ...               ...   \n",
       "9944     NaN  190409.34                2            1                 1   \n",
       "9956     NaN   85216.61                1            1                 0   \n",
       "9964     NaN  117593.48                2            0                 0   \n",
       "9985     NaN  123841.49                2            1                 0   \n",
       "9999     NaN  130142.79                1            1                 0   \n",
       "\n",
       "      estimated_salary  exited  \n",
       "30           140469.38       1  \n",
       "48            90878.13       0  \n",
       "51            86424.57       0  \n",
       "53           164040.94       1  \n",
       "60            84509.57       0  \n",
       "...                ...     ...  \n",
       "9944         138361.48       0  \n",
       "9956         117369.52       1  \n",
       "9964         113308.29       0  \n",
       "9985          96833.00       0  \n",
       "9999          38190.78       0  \n",
       "\n",
       "[909 rows x 14 columns]"
      ]
     },
     "execution_count": 11,
     "metadata": {},
     "output_type": "execute_result"
    }
   ],
   "source": [
    "data_rate[data_rate.tenure.isna()]"
   ]
  },
  {
   "cell_type": "markdown",
   "metadata": {},
   "source": [
    "Проверим дубликаты"
   ]
  },
  {
   "cell_type": "code",
   "execution_count": null,
   "metadata": {},
   "outputs": [
    {
     "data": {
      "text/plain": [
       "0"
      ]
     },
     "execution_count": 12,
     "metadata": {},
     "output_type": "execute_result"
    }
   ],
   "source": [
    "data_rate['customer_id'].duplicated().sum()"
   ]
  },
  {
   "cell_type": "markdown",
   "metadata": {},
   "source": [
    "Явных закономерностей меduplicatedу пропущенным значением и данными не наблюдается"
   ]
  },
  {
   "cell_type": "code",
   "execution_count": null,
   "metadata": {},
   "outputs": [
    {
     "data": {
      "text/plain": [
       "<AxesSubplot:>"
      ]
     },
     "execution_count": 13,
     "metadata": {},
     "output_type": "execute_result"
    },
    {
     "data": {
      "image/png": "[encoded data removed]",
      "text/plain": [
       "<Figure size 640x480 with 2 Axes>"
      ]
     },
     "metadata": {},
     "output_type": "display_data"
    }
   ],
   "source": [
    "sns.heatmap(data_rate.corr(),\n",
    "            annot = True,\n",
    "            fmt='.1g',\n",
    "            annot_kws={\"fontsize\":7},\n",
    "            linecolor = 'black',\n",
    "            linewidths=1, \n",
    "            vmin=-1, vmax=1, center= 0,\n",
    "            cmap= 'coolwarm')"
   ]
  },
  {
   "cell_type": "markdown",
   "metadata": {},
   "source": [
    "Корреляций между признаками не наблюдается"
   ]
  },
  {
   "cell_type": "code",
   "execution_count": null,
   "metadata": {},
   "outputs": [],
   "source": [
    "data_rate['is_na_value'] = 0\n",
    "data_rate.loc[data_rate.tenure.isna(),'is_na_value'] = 1"
   ]
  },
  {
   "cell_type": "code",
   "execution_count": null,
   "metadata": {},
   "outputs": [
    {
     "data": {
      "text/plain": [
       "row_number         -0.014691\n",
       "customer_id        -0.004950\n",
       "credit_score       -0.006798\n",
       "age                -0.008257\n",
       "tenure                   NaN\n",
       "balance            -0.001868\n",
       "num_of_products     0.000029\n",
       "has_cr_card         0.003587\n",
       "is_active_member   -0.002941\n",
       "estimated_salary   -0.005003\n",
       "exited             -0.001869\n",
       "is_na_value         1.000000\n",
       "Name: is_na_value, dtype: float64"
      ]
     },
     "execution_count": 15,
     "metadata": {},
     "output_type": "execute_result"
    }
   ],
   "source": [
    "data_rate.corr()['is_na_value']"
   ]
  },
  {
   "cell_type": "code",
   "execution_count": null,
   "metadata": {},
   "outputs": [],
   "source": [
    "del data_rate['is_na_value']"
   ]
  },
  {
   "cell_type": "markdown",
   "metadata": {},
   "source": [
    "Выше я проверил корреляцию признаков путем введения нового столбца. Корреляция между признаками не наблюдается"
   ]
  },
  {
   "cell_type": "markdown",
   "metadata": {},
   "source": [
    "## Подготовка данных"
   ]
  },
  {
   "cell_type": "markdown",
   "metadata": {},
   "source": [
    "Выделение категориальных и количественных признаков"
   ]
  },
  {
   "cell_type": "code",
   "execution_count": null,
   "metadata": {},
   "outputs": [
    {
     "data": {
      "image/png": "[encoded data removed]",
      "text/plain": [
       "<Figure size 640x480 with 1 Axes>"
      ]
     },
     "metadata": {},
     "output_type": "display_data"
    }
   ],
   "source": [
    "plt.pie(data_rate['exited'].value_counts(normalize = True),\n",
    "        autopct='%1.1f%%', labels = [\"Не уходит\",\"Уходит\"], colors = ['C10','C3'],)\n",
    "plt.title(\"Распределение целевого класса в выборке\")\n",
    "plt.show()"
   ]
  },
  {
   "cell_type": "markdown",
   "metadata": {},
   "source": [
    "Классы несбалансированы"
   ]
  },
  {
   "cell_type": "markdown",
   "metadata": {},
   "source": [
    "---\n",
    "⚠ Изначально задумывается, что в проекте будут использоваться Pipeline и Кросс валидация \\\n",
    "Поэтому будет предпринято ряд решение\n",
    "- Для обработки пропусков будем использовать встроенные инструменты sklearn\n",
    "- Для Кросс валидации будем использовать GridSearchCV, но так как классы не сбалансированы \\\n",
    "в параметр cv будет передавать StratifiedKFold (cross-validation generator). Согласно документации данный генератор сохраняет процентное соотношение классов\n",
    "\n",
    "---"
   ]
  },
  {
   "cell_type": "markdown",
   "metadata": {},
   "source": [
    "### Удаление колонок, которые не смогут нам помочь при обучении модели"
   ]
  },
  {
   "cell_type": "markdown",
   "metadata": {},
   "source": [
    "Удаляем фамилию, так как она никакой смысловой нагрузки не несет. Тем более, что гендер у нас уже определен отдельной колонкой"
   ]
  },
  {
   "cell_type": "code",
   "execution_count": null,
   "metadata": {},
   "outputs": [],
   "source": [
    "del data_rate['surname']"
   ]
  },
  {
   "cell_type": "markdown",
   "metadata": {},
   "source": [
    "Также удалим столбцы `RowNumber` и `CustomerId`"
   ]
  },
  {
   "cell_type": "code",
   "execution_count": null,
   "metadata": {},
   "outputs": [],
   "source": [
    "del data_rate['row_number']\n",
    "del data_rate['customer_id']"
   ]
  },
  {
   "cell_type": "markdown",
   "metadata": {},
   "source": [
    "### Разделение выборки на обучающую и валидационную"
   ]
  },
  {
   "cell_type": "code",
   "execution_count": null,
   "metadata": {},
   "outputs": [],
   "source": [
    "X = data_rate.drop('exited', axis = 1)\n",
    "y = data_rate['exited']"
   ]
  },
  {
   "cell_type": "code",
   "execution_count": null,
   "metadata": {},
   "outputs": [],
   "source": [
    "X_train, X_test, y_train, y_test = train_test_split(\n",
    "        X,y, test_size=.25, stratify = y, random_state = RANDOM_STATE)"
   ]
  },
  {
   "cell_type": "code",
   "execution_count": null,
   "metadata": {},
   "outputs": [],
   "source": [
    "# находим все числовые колонки\n",
    "numerical_cols = [cname for cname in X_train.columns\n",
    "                  if X_train[cname].dtype in ['int64', 'float64']]\n"
   ]
  },
  {
   "cell_type": "code",
   "execution_count": null,
   "metadata": {},
   "outputs": [],
   "source": [
    "# Находим все категориальные колонки\n",
    "categorical_cols = [cname for cname in X_train.columns\n",
    "                    if X_train[cname].dtype in ['object']]"
   ]
  },
  {
   "cell_type": "markdown",
   "metadata": {},
   "source": [
    "Проверим сколько значений находится в категориальных данных"
   ]
  },
  {
   "cell_type": "code",
   "execution_count": null,
   "metadata": {},
   "outputs": [
    {
     "data": {
      "text/plain": [
       "geography    3\n",
       "gender       2\n",
       "dtype: int64"
      ]
     },
     "execution_count": 24,
     "metadata": {},
     "output_type": "execute_result"
    }
   ],
   "source": [
    "data_rate[categorical_cols].nunique()"
   ]
  },
  {
   "cell_type": "markdown",
   "metadata": {},
   "source": [
    "### Создание Pipeline для предобработки данных"
   ]
  },
  {
   "cell_type": "markdown",
   "metadata": {},
   "source": [
    " Используем IterativeImputer для обработки пропущенных значений. Данный способ заполняет значения на основе других данных \\\n",
    " Также следущим шагом применяем StandartScaler для приведения данных к одинаковому масштабу"
   ]
  },
  {
   "cell_type": "markdown",
   "metadata": {},
   "source": [
    "---\n",
    "\n",
    "⚠ Почему был использован именно этот метод?\n",
    "он при заполнении учитывает другие колонки.\n",
    "Конечно можно было бы добавить колонку, в которой было бы\n",
    "отдельно написано был или нет пропуск, но мы предполагаем исходя из предыдущих данных и логики задачи, что в данном\n",
    "датасете пропуски случайны и не имеют закономерности. Скорее всего это ошибка в сборе данных\n",
    "\n",
    "---"
   ]
  },
  {
   "cell_type": "code",
   "execution_count": null,
   "metadata": {},
   "outputs": [],
   "source": [
    "numerical_transformer = Pipeline(steps=[\n",
    "    ('inputer',IterativeImputer(random_state=0, max_iter=40)),\n",
    "    ('scaler',StandardScaler())])"
   ]
  },
  {
   "cell_type": "code",
   "execution_count": null,
   "metadata": {},
   "outputs": [],
   "source": [
    "# передаем drop значение first, чтобы избежать ошибку dummy ловушки\n",
    "categorical_transformer = Pipeline(steps=[\n",
    "    ('onehot', OneHotEncoder(drop= 'first'))\n",
    "])"
   ]
  },
  {
   "cell_type": "code",
   "execution_count": null,
   "metadata": {},
   "outputs": [],
   "source": [
    "# далее объединяем два шага в один preprocessor\n",
    "preprocessor = ColumnTransformer(\n",
    "    transformers=[\n",
    "        ('num', numerical_transformer, numerical_cols),\n",
    "        ('cat', categorical_transformer, categorical_cols)\n",
    "    ])"
   ]
  },
  {
   "cell_type": "code",
   "execution_count": null,
   "metadata": {},
   "outputs": [],
   "source": [
    "# Функция для удобной передачи модели и сразу получение модели с предобработанными\n",
    "# данными\n",
    "def get_pipeline_model(model):\n",
    "    model_pipeline = Pipeline(steps=[('preprocessor', preprocessor),\n",
    "                                      ('model', model)\n",
    "                             ])\n",
    "    return model_pipeline"
   ]
  },
  {
   "cell_type": "code",
   "execution_count": null,
   "metadata": {},
   "outputs": [],
   "source": [
    "# cross-validation generator, который будем передавать в Grid_search,\n",
    "# для того, чтобы модель верно обучалась при дисбалансе классов\n",
    "strat_kfold = StratifiedKFold(n_splits = 5)"
   ]
  },
  {
   "cell_type": "markdown",
   "metadata": {},
   "source": [
    "### Создание функции для вывода отчета"
   ]
  },
  {
   "cell_type": "code",
   "execution_count": null,
   "metadata": {},
   "outputs": [],
   "source": [
    "def return_report(model_grid_search_cv):\n",
    "    \"\"\"Функция создает отчет и печатает его и одновременно\n",
    "    возвращает в результате метрики, чтобы их можно было сохранить\n",
    "    и сравнить\"\"\"\n",
    "    \n",
    "    report_result = model_grid_search_cv.cv_results_\n",
    "    best_index = model_grid_search_cv.best_index_\n",
    "    \n",
    "    print(f\"accuracy:   {report_result['mean_test_accuracy'][best_index]:.4f}\")\n",
    "    print(f\"precision:  {report_result['mean_test_precision'][best_index]:.4f}\")\n",
    "    print(f\"recall:     {report_result['mean_test_recall'][best_index]:.4f}\")\n",
    "    print(f\"f1_score:   {report_result['mean_test_f1'][best_index]:.4f}\")\n",
    "    print(f\"roc_auc:    {report_result['mean_test_roc_auc'][best_index]:.4f}\")\n",
    "    print()"
   ]
  },
  {
   "cell_type": "markdown",
   "metadata": {},
   "source": [
    "## Исследование моделей без учета дисбаланса"
   ]
  },
  {
   "cell_type": "markdown",
   "metadata": {},
   "source": [
    "### Логистическая регрессия"
   ]
  },
  {
   "cell_type": "markdown",
   "metadata": {},
   "source": [
    "Относится к линейным моделям. В целом если модель покажет себя на уровне других более продвинутых моделей, можно будет попробовать \\\n",
    "как-то поработать с линейными моделями. Хотя скорее всего данная модель не даст высоких результатов"
   ]
  },
  {
   "cell_type": "code",
   "execution_count": null,
   "metadata": {},
   "outputs": [],
   "source": [
    "lgr = get_pipeline_model(LogisticRegression(random_state=RANDOM_STATE, \n",
    "                                            solver = 'liblinear'))\n",
    "# указывать scoring явно не требуется, сделаем для лучшего понимания\n",
    "g_lgr = GridSearchCV(lgr, param_grid = {}, cv = strat_kfold,\n",
    "                     scoring = SCORING,refit = MAIN_SCORING)\n",
    "\n",
    "\"\"\" cross_val_score - можно использовать как альтернативу, чтобы не передавать\n",
    "пустой param_grid, но здесь не будем импортировать лишнюю функцию, чтобы \n",
    "не путаться \n",
    "\"\"\";"
   ]
  },
  {
   "cell_type": "code",
   "execution_count": null,
   "metadata": {},
   "outputs": [
    {
     "name": "stdout",
     "output_type": "stream",
     "text": [
      "accuracy:   0.7917\n",
      "precision:  0.4302\n",
      "recall:     0.0445\n",
      "f1_score:   0.0788\n",
      "roc_auc:    0.6638\n",
      "\n"
     ]
    }
   ],
   "source": [
    "g_lgr.fit(X_train, y_train)\n",
    "\n",
    "return_report(g_lgr)"
   ]
  },
  {
   "cell_type": "markdown",
   "metadata": {},
   "source": [
    "Ожидаемо данная модель показывает недостаточно хорошие результаты\n",
    "\n",
    "- не смотря на высокий accuracy, метрика f1_score низкая. То есть мы не сможем достаточно точно предсказывать уйдет клиент или нет\n",
    "- При этом roc_auc метрика говорит о том, что модель отличается от случайной"
   ]
  },
  {
   "cell_type": "markdown",
   "metadata": {},
   "source": [
    "### Дерево решений"
   ]
  },
  {
   "cell_type": "code",
   "execution_count": null,
   "metadata": {},
   "outputs": [],
   "source": [
    "dtr = get_pipeline_model(DecisionTreeClassifier(random_state=RANDOM_STATE))\n",
    "# перед признаком указывается model, так как в pipeline необходимо указывать название\n",
    "# объекта, куда будет передаваться признак\n",
    "param_grid_dtr = {'model__max_depth' : range(2,30)}\n",
    "\n",
    "g_dtr = GridSearchCV(dtr, param_grid = param_grid_dtr, \n",
    "                     cv = strat_kfold, scoring = SCORING, refit = MAIN_SCORING)\n"
   ]
  },
  {
   "cell_type": "code",
   "execution_count": null,
   "metadata": {},
   "outputs": [
    {
     "name": "stdout",
     "output_type": "stream",
     "text": [
      "Лучшее f1 дерева решений: 0.5617\n"
     ]
    }
   ],
   "source": [
    "g_dtr.fit(X_train, y_train);\n",
    "print(f\"Лучшее f1 дерева решений: {g_dtr.best_score_:.4f}\")"
   ]
  },
  {
   "cell_type": "code",
   "execution_count": null,
   "metadata": {},
   "outputs": [
    {
     "name": "stdout",
     "output_type": "stream",
     "text": [
      "accuracy:   0.8541\n",
      "precision:  0.7229\n",
      "recall:     0.4607\n",
      "f1_score:   0.5617\n",
      "roc_auc:    0.8272\n",
      "\n"
     ]
    }
   ],
   "source": [
    "return_report(g_dtr)"
   ]
  },
  {
   "cell_type": "markdown",
   "metadata": {},
   "source": [
    "Дерево решений\n",
    "\n",
    "- все показатели превышают показатели линейной регрессии\n",
    "- мы видим, что f1-score в разы выше предыдущей модели\n",
    "- при этом показатель roc_auc ниже, чем у линейной регрессии"
   ]
  },
  {
   "cell_type": "markdown",
   "metadata": {},
   "source": [
    "### Случайный лес"
   ]
  },
  {
   "cell_type": "code",
   "execution_count": null,
   "metadata": {},
   "outputs": [],
   "source": [
    "rfc = get_pipeline_model(RandomForestClassifier(random_state=RANDOM_STATE))\n",
    "\n",
    "param_grid_rfc = {'model__max_depth' : range(2,15),\n",
    "                  'model__n_estimators':range(5,50,10),\n",
    "                  'model__min_samples_leaf':[1,5,10,20]}\n",
    "\n",
    "#accuracy\n",
    "g_rfc = GridSearchCV(rfc, param_grid = param_grid_rfc, \n",
    "                     cv = strat_kfold, scoring = SCORING, refit = MAIN_SCORING)"
   ]
  },
  {
   "cell_type": "code",
   "execution_count": 37,
   "metadata": {
    "tags": []
   },
   "outputs": [
    {
     "name": "stdout",
     "output_type": "stream",
     "text": [
      "Подбор гиперпараметров завершен\n"
     ]
    }
   ],
   "source": [
    "g_rfc.fit(X_train, y_train);\n",
    "\n",
    "print('Подбор гиперпараметров завершен')"
   ]
  },
  {
   "cell_type": "code",
   "execution_count": 38,
   "metadata": {},
   "outputs": [
    {
     "name": "stdout",
     "output_type": "stream",
     "text": [
      "accuracy:   0.8647\n",
      "precision:  0.7988\n",
      "recall:     0.4483\n",
      "f1_score:   0.5739\n",
      "roc_auc:    0.8511\n",
      "\n"
     ]
    }
   ],
   "source": [
    "return_report(g_rfc)"
   ]
  },
  {
   "cell_type": "markdown",
   "metadata": {},
   "source": [
    "Мы видим, что приблизиться к нужной f1 мере у нас не получилось"
   ]
  },
  {
   "cell_type": "markdown",
   "metadata": {},
   "source": [
    "## Борьба с дисбалансом"
   ]
  },
  {
   "cell_type": "markdown",
   "metadata": {},
   "source": [
    "### Взвешивание классов"
   ]
  },
  {
   "cell_type": "markdown",
   "metadata": {},
   "source": [
    "#### Логистическая регрессия"
   ]
  },
  {
   "cell_type": "markdown",
   "metadata": {},
   "source": [
    "Во многих моделях существует class_weight. И если указать class_weight, то можно будет увеличить вес класса, который меньше"
   ]
  },
  {
   "cell_type": "code",
   "execution_count": 39,
   "metadata": {},
   "outputs": [
    {
     "name": "stdout",
     "output_type": "stream",
     "text": [
      "accuracy:   0.6881\n",
      "precision:  0.3614\n",
      "recall:     0.6905\n",
      "f1_score:   0.4744\n",
      "roc_auc:    0.7494\n",
      "\n"
     ]
    }
   ],
   "source": [
    "lgr = get_pipeline_model(LogisticRegression(random_state=RANDOM_STATE, \n",
    "                                            solver = 'liblinear',\n",
    "                                            class_weight='balanced'))\n",
    "\n",
    "g_lgr = GridSearchCV(lgr, param_grid = {}, cv = strat_kfold,\n",
    "                     scoring = SCORING, refit = MAIN_SCORING)\n",
    "g_lgr.fit(X_train, y_train);\n",
    "\n",
    "return_report(g_lgr)"
   ]
  },
  {
   "cell_type": "markdown",
   "metadata": {},
   "source": [
    "f1 мера улучшилась, но незначительно"
   ]
  },
  {
   "cell_type": "markdown",
   "metadata": {},
   "source": [
    "#### Случайный лес"
   ]
  },
  {
   "cell_type": "markdown",
   "metadata": {},
   "source": [
    "---\n",
    "\n",
    "⚠ Дерево решений мы не будем проверять и проверим сразу случайный лес. Да мы знаем, что случайный лес менее чувствителен к дисбалансу классов. Но именно эта модель показала себя лучше остальных и мы постараемся улучшить её показатели\n",
    "\n",
    "---"
   ]
  },
  {
   "cell_type": "code",
   "execution_count": 40,
   "metadata": {},
   "outputs": [
    {
     "name": "stdout",
     "output_type": "stream",
     "text": [
      "Подбор гиперпараметров завершен\n"
     ]
    }
   ],
   "source": [
    "rfc_1 = get_pipeline_model(RandomForestClassifier(random_state=RANDOM_STATE,\n",
    "                                           class_weight='balanced'))\n",
    "\n",
    "param_grid_rfc = {'model__max_depth' : range(1,15),\n",
    "                  'model__n_estimators':range(5,50,10),\n",
    "                  'model__min_samples_leaf':[1,5,10,20]}\n",
    "\n",
    "#accuracy\n",
    "g_rfc_1 = GridSearchCV(rfc_1, param_grid = param_grid_rfc, \n",
    "                cv = strat_kfold, scoring = SCORING, refit = MAIN_SCORING)\n",
    "\n",
    "g_rfc_1.fit(X_train, y_train);\n",
    "\n",
    "print('Подбор гиперпараметров завершен')"
   ]
  },
  {
   "cell_type": "code",
   "execution_count": 41,
   "metadata": {},
   "outputs": [
    {
     "name": "stdout",
     "output_type": "stream",
     "text": [
      "accuracy:   0.8416\n",
      "precision:  0.6048\n",
      "recall:     0.6407\n",
      "f1_score:   0.6220\n",
      "roc_auc:    0.8473\n",
      "\n"
     ]
    }
   ],
   "source": [
    "return_report(g_rfc_1)"
   ]
  },
  {
   "cell_type": "markdown",
   "metadata": {},
   "source": [
    "---\n",
    "\n",
    "⚠ Итак не смотря на кросс валидацию и то, что мы имеем дело с рандомным лесом, мы скорее всего столнулись с переобучением модели\n",
    "\n",
    "\n",
    "---"
   ]
  },
  {
   "cell_type": "markdown",
   "metadata": {},
   "source": [
    "### Увеличение выборки"
   ]
  },
  {
   "cell_type": "code",
   "execution_count": 42,
   "metadata": {},
   "outputs": [],
   "source": [
    "# make_pipeline взял из библиотеки lmblearn. Из sklearn не работает SMOTE\n",
    "def get_pipeline_model_smote(model):\n",
    "    smote = make_pipeline(SMOTE(random_state = RANDOM_STATE),\n",
    "                          model)\n",
    "\n",
    "    model_pipeline = Pipeline(steps=[('preprocessor', preprocessor),\n",
    "                                     ('smote', smote),\n",
    "                             ])\n",
    "    return model_pipeline"
   ]
  },
  {
   "cell_type": "code",
   "execution_count": 43,
   "metadata": {},
   "outputs": [],
   "source": [
    "rfc_2 = get_pipeline_model_smote(\n",
    "        RandomForestClassifier(random_state=RANDOM_STATE)\n",
    ")\n",
    "\n",
    "\n",
    "param_grid_rfc = {'smote__randomforestclassifier__max_depth' : range(1,12,2),\n",
    "                  'smote__randomforestclassifier__n_estimators':range(5,50,10),\n",
    "                  'smote__randomforestclassifier__min_samples_leaf':[1,5,10,20]}\n",
    "\n",
    "#accuracy\n",
    "g_rfc_2 = GridSearchCV(rfc_2, param_grid = param_grid_rfc, \n",
    "                cv = strat_kfold, scoring = SCORING, refit = MAIN_SCORING)\n"
   ]
  },
  {
   "cell_type": "code",
   "execution_count": 44,
   "metadata": {},
   "outputs": [],
   "source": [
    "g_rfc_2.fit(X_train, y_train);"
   ]
  },
  {
   "cell_type": "code",
   "execution_count": 45,
   "metadata": {},
   "outputs": [
    {
     "name": "stdout",
     "output_type": "stream",
     "text": [
      "accuracy:   0.8599\n",
      "precision:  0.7113\n",
      "recall:     0.5262\n",
      "f1_score:   0.6043\n",
      "roc_auc:    0.8508\n",
      "\n"
     ]
    }
   ],
   "source": [
    "return_report(g_rfc_2)"
   ]
  },
  {
   "cell_type": "markdown",
   "metadata": {},
   "source": [
    "Стоит заметить, что в данной модели мы сразу старались максимизировать f1 метрику"
   ]
  },
  {
   "cell_type": "markdown",
   "metadata": {},
   "source": [
    "### Изменение порога приналежности к классу"
   ]
  },
  {
   "cell_type": "code",
   "execution_count": 46,
   "metadata": {},
   "outputs": [],
   "source": [
    "probabilities_valid = g_rfc.predict_proba(X_train)\n",
    "probabilities_one_valid = probabilities_valid[:, 1]"
   ]
  },
  {
   "cell_type": "code",
   "execution_count": 47,
   "metadata": {},
   "outputs": [],
   "source": [
    "precision_list = []\n",
    "recall_list = []\n",
    "f1_list = []\n",
    "\n",
    "for threshold in np.arange(0, 1, 0.02):\n",
    "    predicted_valid = probabilities_one_valid > threshold \n",
    "    precision_list.append(precision_score(y_train, predicted_valid))\n",
    "    recall_list.append(recall_score(y_train, predicted_valid))\n",
    "    f1_list.append(f1_score(y_train, predicted_valid))\n",
    "    "
   ]
  },
  {
   "cell_type": "code",
   "execution_count": 48,
   "metadata": {},
   "outputs": [
    {
     "data": {
      "image/png": "[encoded data removed]",
      "text/plain": [
       "<Figure size 640x480 with 1 Axes>"
      ]
     },
     "metadata": {},
     "output_type": "display_data"
    }
   ],
   "source": [
    "plt.plot(np.arange(0, 1, 0.02) , f1_list , label='f1')\n",
    "plt.plot(np.arange(0, 1, 0.02) , recall_list , label='recall')\n",
    "plt.plot(np.arange(0, 1, 0.02) , precision_list , label='precision')\n",
    "\n",
    "plt.legend()\n",
    "plt.show()"
   ]
  },
  {
   "cell_type": "markdown",
   "metadata": {},
   "source": [
    "Итого при пороге 0.3 модель на выборке показывает себя наилучшим образом"
   ]
  },
  {
   "cell_type": "markdown",
   "metadata": {},
   "source": [
    "## Тестирование модели"
   ]
  },
  {
   "cell_type": "markdown",
   "metadata": {},
   "source": [
    "Применим исправленную модель, где была увеличена выборка, были сокращено количество долей, на которые разбивается датафрейм при кросс валидации и было ограничено количество деревьев и их глубина и обучение шло по f1 метрике"
   ]
  },
  {
   "cell_type": "code",
   "execution_count": 49,
   "metadata": {},
   "outputs": [
    {
     "data": {
      "text/plain": [
       "0.6257088846880908"
      ]
     },
     "execution_count": 49,
     "metadata": {},
     "output_type": "execute_result"
    }
   ],
   "source": [
    "g_rfc_1.score(X_test, y_test)"
   ]
  },
  {
   "cell_type": "markdown",
   "metadata": {},
   "source": [
    "Также проверим, улучшится ли модель, если поменять порог"
   ]
  },
  {
   "cell_type": "code",
   "execution_count": 50,
   "metadata": {
    "tags": []
   },
   "outputs": [
    {
     "data": {
      "text/plain": [
       "0.6356011183597391"
      ]
     },
     "execution_count": 50,
     "metadata": {},
     "output_type": "execute_result"
    }
   ],
   "source": [
    "probabilities_test = g_rfc.predict_proba(X_test)\n",
    "probabilities_one_test = probabilities_test[:, 1]\n",
    "pred_y_test = probabilities_one_test > 0.3\n",
    "\n",
    "f1_score(y_test, pred_y_test)"
   ]
  },
  {
   "cell_type": "markdown",
   "metadata": {},
   "source": [
    "На тестовой выборке порог улудшил модель рандомного леса"
   ]
  },
  {
   "cell_type": "markdown",
   "metadata": {},
   "source": [
    "## ИТОГО\n",
    "\n",
    "1) Этап преобоработки\n",
    "    - пропущенные признаки были предобработаны при помощи IterativeImputer\n",
    "    - данные были разделены на обучающую и тестовую выборку\n",
    "    - было применено масштабирование признаков при помощи ScandartScaler\n",
    "    - категориальные признаки были обработаны при помощи OneHotEncoding, первый признак был удалён, чтобы избежать Dummy- ловушки\n",
    "2) На протяжении всего исследования учитывалась метрика roc_auc\n",
    "    - самый низкий показатель данной метрики был зафиксирован у логистической регрессии\n",
    "    - в остальных случаях метрика была более 0.7, что отличает её от случайной\n",
    "3) Итоговое f1 значение меры на тестовой выборке `0.63`\n",
    "4) Для работы с дисбаланированными классами были применены следущие решения\n",
    "    - при разбиении на обучающую и тестовую выборку был использован параметр stratify\n",
    "    - при кросс-валидации использовался StratifiedKFold\n",
    "    - был использован мето взвешивания классов, который значительно улучшил качество модели регрессии\n",
    "    - был использован метод увеличения выборки(upsampling). Именно в корнечном итоге эта модель показала себя лучшим образом\n",
    "    - также на модели рандомного леса было использовано изменение порога. Оно тоже показало неплохие результаты в плане f1 меры"
   ]
  }
 ],
 "metadata": {
  "kernelspec": {
   "display_name": "Python 3 (ipykernel)",
   "language": "python",
   "name": "python3"
  },
  "language_info": {
   "codemirror_mode": {
    "name": "ipython",
    "version": 3
   },
   "file_extension": ".py",
   "mimetype": "text/x-python",
   "name": "python",
   "nbconvert_exporter": "python",
   "pygments_lexer": "ipython3",
   "version": "3.8.16"
  },
  "toc": {
   "base_numbering": 1,
   "nav_menu": {},
   "number_sections": true,
   "sideBar": true,
   "skip_h1_title": true,
   "title_cell": "Содержание",
   "title_sidebar": "Contents",
   "toc_cell": true,
   "toc_position": {},
   "toc_section_display": true,
   "toc_window_display": true
  }
 },
 "nbformat": 4,
 "nbformat_minor": 4
}
